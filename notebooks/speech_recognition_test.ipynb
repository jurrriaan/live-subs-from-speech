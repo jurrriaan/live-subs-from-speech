{
 "cells": [
  {
   "cell_type": "code",
   "execution_count": 34,
   "metadata": {},
   "outputs": [
    {
     "name": "stdout",
     "output_type": "stream",
     "text": [
      "Collecting chart_studio\n",
      "\u001b[?25l  Downloading https://files.pythonhosted.org/packages/b9/3f/d2f3f506ba1aaf109f549f8b01d1483cd3e324c5ebe6b206acee66efdf46/chart_studio-1.0.0-py3-none-any.whl (76kB)\n",
      "\u001b[K     |████████████████████████████████| 81kB 3.2MB/s eta 0:00:01\n",
      "\u001b[?25hCollecting retrying>=1.3.3 (from chart_studio)\n",
      "Requirement already satisfied: six in /Users/jurriaan/.local/lib/python3.7/site-packages (from chart_studio) (1.12.0)\n",
      "Requirement already satisfied: requests in /Users/jurriaan/.local/lib/python3.7/site-packages (from chart_studio) (2.22.0)\n",
      "Collecting plotly (from chart_studio)\n",
      "\u001b[?25l  Downloading https://files.pythonhosted.org/packages/43/38/d2e6800ec9955b50f6b68cbd85a70a9795a89f25d1b1e8c413647eacb0e0/plotly-4.5.1-py2.py3-none-any.whl (7.1MB)\n",
      "\u001b[K     |████████████████████████████████| 7.1MB 7.7MB/s eta 0:00:01\n",
      "\u001b[?25hRequirement already satisfied: urllib3!=1.25.0,!=1.25.1,<1.26,>=1.21.1 in /Users/jurriaan/.local/lib/python3.7/site-packages (from requests->chart_studio) (1.25.5)\n",
      "Requirement already satisfied: chardet<3.1.0,>=3.0.2 in /Users/jurriaan/.local/lib/python3.7/site-packages (from requests->chart_studio) (3.0.4)\n",
      "Requirement already satisfied: certifi>=2017.4.17 in /Users/jurriaan/.local/lib/python3.7/site-packages (from requests->chart_studio) (2019.9.11)\n",
      "Requirement already satisfied: idna<2.9,>=2.5 in /Users/jurriaan/.local/lib/python3.7/site-packages (from requests->chart_studio) (2.8)\n",
      "Installing collected packages: retrying, plotly, chart-studio\n",
      "Successfully installed chart-studio-1.0.0 plotly-4.5.1 retrying-1.3.3\n",
      "Note: you may need to restart the kernel to use updated packages.\n"
     ]
    }
   ],
   "source": [
    "%pip install chart_studio"
   ]
  },
  {
   "cell_type": "code",
   "execution_count": 35,
   "metadata": {},
   "outputs": [],
   "source": [
    "import chart_studio.plotly as py\n",
    "import chart_studio.presentation_objs as pres"
   ]
  },
  {
   "cell_type": "code",
   "execution_count": 18,
   "metadata": {},
   "outputs": [],
   "source": [
    "from googletrans import Translator\n",
    "translator = Translator()"
   ]
  },
  {
   "cell_type": "code",
   "execution_count": 37,
   "metadata": {},
   "outputs": [
    {
     "name": "stdout",
     "output_type": "stream",
     "text": [
      "Say something!\n",
      "Google Speech Recognition thinks you said nu ga ik iets zeggen\n",
      "nu ga ik iets zeggen Now I'm going to say something\n",
      "Now I'm going to say something Şimdi bir şey diyeceğim\n",
      "Google translate thinks you said Şimdi bir şey diyeceğim\n"
     ]
    }
   ],
   "source": [
    "#!/usr/bin/env python3\n",
    "\n",
    "# NOTE: this example requires PyAudio because it uses the Microphone class\n",
    "\n",
    "import speech_recognition as sr\n",
    "\n",
    "# obtain audio from the microphone\n",
    "r = sr.Recognizer()\n",
    "with sr.Microphone() as source:\n",
    "    print(\"Say something!\")\n",
    "    audio = r.listen(source)\n",
    "\n",
    "# # recognize speech using Sphinx\n",
    "# try:\n",
    "#     print(\"Sphinx thinks you said \" + r.recognize_sphinx(audio))\n",
    "# except sr.UnknownValueError:\n",
    "#     print(\"Sphinx could not understand audio\")\n",
    "# except sr.RequestError as e:\n",
    "#     print(\"Sphinx error; {0}\".format(e))\n",
    "\n",
    "#recognize speech using Google Speech Recognition\n",
    "try:\n",
    "    # for testing purposes, we're just using the default API key\n",
    "    # to use another API key, use `r.recognize_google(audio, key=\"GOOGLE_SPEECH_RECOGNITION_API_KEY\")`\n",
    "    # instead of `r.recognize_google(audio)`\n",
    "    text_speech =  r.recognize_google(audio, None, \"nl_NL\")\n",
    "    print(\"Google Speech Recognition thinks you said \" + text_speech)\n",
    "    \n",
    "except sr.UnknownValueError:\n",
    "    print(\"Google Speech Recognition could not understand audio\")\n",
    "except sr.RequestError as e:\n",
    "    print(\"Could not request results from Google Speech Recognition service; {0}\".format(e))\n",
    "\n",
    "\n",
    "translation_en = translator.translate(text_speech, dest='en')\n",
    "print(translation_en.origin, translation_en.text)\n",
    "\n",
    "translation_tr = translator.translate(translation_en.text, dest='tr')\n",
    "\n",
    "print(translation_tr.origin, translation_tr.text)\n",
    "\n",
    "text_tr = translation_tr.text\n",
    "print(\"Google translate thinks you said \" + text_tr)\n",
    "\n",
    "filename = 'simple-pres'\n",
    "markdown_string = \"{}\".format(text_tr)\n",
    "\n",
    "my_pres = pres.Presentation(markdown_string)\n",
    "pres_url_0 = py.presentation_ops.upload(my_pres, filename)"
   ]
  },
  {
   "cell_type": "code",
   "execution_count": 27,
   "metadata": {},
   "outputs": [],
   "source": [
    "test_text_dutch = \"ik vind het leuk\""
   ]
  },
  {
   "cell_type": "code",
   "execution_count": 30,
   "metadata": {},
   "outputs": [
    {
     "name": "stdout",
     "output_type": "stream",
     "text": [
      "ik vind het leuk I like it\n",
      "I like it bunu sevdim\n"
     ]
    }
   ],
   "source": [
    "translation_en = translator.translate(test_text_dutch, dest='en')\n",
    "print(translation_en.origin, translation_en.text)\n",
    "\n",
    "translation_tr = translator.translate(translation_en.text, dest='tr')\n",
    "\n",
    "print(translation_tr.origin, translation_tr.text)"
   ]
  },
  {
   "cell_type": "code",
   "execution_count": null,
   "metadata": {},
   "outputs": [],
   "source": [
    "# #recognize speech using Google Cloud Speech\n",
    "# GOOGLE_CLOUD_SPEECH_CREDENTIALS = r\"\"\"INSERT THE CONTENTS OF THE GOOGLE CLOUD SPEECH JSON CREDENTIALS FILE HERE\"\"\"\n",
    "# try:\n",
    "#     print(\"Google Cloud Speech thinks you said \" + r.recognize_google_cloud(audio, credentials_json=GOOGLE_CLOUD_SPEECH_CREDENTIALS))\n",
    "# except sr.UnknownValueError:\n",
    "#     print(\"Google Cloud Speech could not understand audio\")\n",
    "# except sr.RequestError as e:\n",
    "#     print(\"Could not request results from Google Cloud Speech service; {0}\".format(e))\n",
    "\n",
    "# # recognize speech using Wit.ai\n",
    "# WIT_AI_KEY = \"INSERT WIT.AI API KEY HERE\"  # Wit.ai keys are 32-character uppercase alphanumeric strings\n",
    "# try:\n",
    "#     print(\"Wit.ai thinks you said \" + r.recognize_wit(audio, key=WIT_AI_KEY))\n",
    "# except sr.UnknownValueError:\n",
    "#     print(\"Wit.ai could not understand audio\")\n",
    "# except sr.RequestError as e:\n",
    "#     print(\"Could not request results from Wit.ai service; {0}\".format(e))\n",
    "\n",
    "# # recognize speech using Microsoft Bing Voice Recognition\n",
    "# BING_KEY = \"INSERT BING API KEY HERE\"  # Microsoft Bing Voice Recognition API keys 32-character lowercase hexadecimal strings\n",
    "# try:\n",
    "#     print(\"Microsoft Bing Voice Recognition thinks you said \" + r.recognize_bing(audio, key=BING_KEY))\n",
    "# except sr.UnknownValueError:\n",
    "#     print(\"Microsoft Bing Voice Recognition could not understand audio\")\n",
    "# except sr.RequestError as e:\n",
    "#     print(\"Could not request results from Microsoft Bing Voice Recognition service; {0}\".format(e))\n",
    "\n",
    "# # recognize speech using Microsoft Azure Speech\n",
    "# AZURE_SPEECH_KEY = \"INSERT AZURE SPEECH API KEY HERE\"  # Microsoft Speech API keys 32-character lowercase hexadecimal strings\n",
    "# try:\n",
    "#     print(\"Microsoft Azure Speech thinks you said \" + r.recognize_azure(audio, key=AZURE_SPEECH_KEY))\n",
    "# except sr.UnknownValueError:\n",
    "#     print(\"Microsoft Azure Speech could not understand audio\")\n",
    "# except sr.RequestError as e:\n",
    "#     print(\"Could not request results from Microsoft Azure Speech service; {0}\".format(e))\n",
    "\n",
    "# # recognize speech using Houndify\n",
    "# HOUNDIFY_CLIENT_ID = \"INSERT HOUNDIFY CLIENT ID HERE\"  # Houndify client IDs are Base64-encoded strings\n",
    "# HOUNDIFY_CLIENT_KEY = \"INSERT HOUNDIFY CLIENT KEY HERE\"  # Houndify client keys are Base64-encoded strings\n",
    "# try:\n",
    "#     print(\"Houndify thinks you said \" + r.recognize_houndify(audio, client_id=HOUNDIFY_CLIENT_ID, client_key=HOUNDIFY_CLIENT_KEY))\n",
    "# except sr.UnknownValueError:\n",
    "#     print(\"Houndify could not understand audio\")\n",
    "# except sr.RequestError as e:\n",
    "#     print(\"Could not request results from Houndify service; {0}\".format(e))\n",
    "\n",
    "# # recognize speech using IBM Speech to Text\n",
    "# IBM_USERNAME = \"INSERT IBM SPEECH TO TEXT USERNAME HERE\"  # IBM Speech to Text usernames are strings of the form XXXXXXXX-XXXX-XXXX-XXXX-XXXXXXXXXXXX\n",
    "# IBM_PASSWORD = \"INSERT IBM SPEECH TO TEXT PASSWORD HERE\"  # IBM Speech to Text passwords are mixed-case alphanumeric strings\n",
    "# try:\n",
    "#     print(\"IBM Speech to Text thinks you said \" + r.recognize_ibm(audio, username=IBM_USERNAME, password=IBM_PASSWORD))\n",
    "# except sr.UnknownValueError:\n",
    "#     print(\"IBM Speech to Text could not understand audio\")\n",
    "# except sr.RequestError as e:\n",
    "#     print(\"Could not request results from IBM Speech to Text service; {0}\".format(e))"
   ]
  }
 ],
 "metadata": {
  "kernelspec": {
   "display_name": "Python 3",
   "language": "python",
   "name": "python3"
  },
  "language_info": {
   "codemirror_mode": {
    "name": "ipython",
    "version": 3
   },
   "file_extension": ".py",
   "mimetype": "text/x-python",
   "name": "python",
   "nbconvert_exporter": "python",
   "pygments_lexer": "ipython3",
   "version": "3.7.4"
  }
 },
 "nbformat": 4,
 "nbformat_minor": 2
}
